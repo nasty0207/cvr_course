{
 "cells": [
  {
   "cell_type": "markdown",
   "id": "acquired-accused",
   "metadata": {},
   "source": [
    "# Локализация. Упражнения"
   ]
  },
  {
   "cell_type": "markdown",
   "id": "electric-shannon",
   "metadata": {},
   "source": [
    "В этих упражнениях вам предлагается реализовать простые алгоритмы локализации роботов. На лекции, помимо фильтра частиц, были упомянуты методы триангуляции и альфа-бета фильтр. Давайте их реализуем: обе реализации должны быть сделаны в виде класса, у которого должен быть метод update. Метод update принимает на вход измеренения с камеры о положении ориентиров в сосбтвенной системе координат робота."
   ]
  },
  {
   "cell_type": "markdown",
   "id": "trained-funds",
   "metadata": {},
   "source": [
    "В качестве ориентиров будем использовать координаты стоек ворот. Для удобства будем пользоваться упрощенным вариантом, при котором ворота разных цветов. В словаре храняться положения стоек в глобальной системе координат (точка (0, 0) нахождится в центре поля)"
   ]
  },
  {
   "cell_type": "code",
   "execution_count": 1,
   "id": "artistic-holocaust",
   "metadata": {},
   "outputs": [],
   "source": [
    "landmarks = {\n",
    "    \"blue_posts\": [\n",
    "        [ -4.5, -1.0], [ -4.5, 1.0]\n",
    "    ],\n",
    "    \"yellow_posts\":[\n",
    "        [ 4.5, -1.0], [ 4.5, 1.0]\n",
    "    ]\n",
    "}"
   ]
  },
  {
   "cell_type": "markdown",
   "id": "gross-browse",
   "metadata": {},
   "source": [
    "Пример данных, которые могут поступать в модуль на одном шаге всей системы. Данные во втором словаре – это данные одометрии с собвственной информацией робота о перемещении за один шаг системы. Для проверки работы придумайте и запишите набор данных с такой же структурой. "
   ]
  },
  {
   "cell_type": "code",
   "execution_count": 2,
   "id": "freelance-clothing",
   "metadata": {},
   "outputs": [],
   "source": [
    "observations = {\"yellow_posts\":[[4.45, -0.99],[4.49, 1.09]], \"blue_posts\":[]}\n",
    "shift = {'shift_x':0.0, 'shift_y':0.01, 'shift_angle':-0.4}"
   ]
  },
  {
   "cell_type": "markdown",
   "id": "behind-mouth",
   "metadata": {},
   "source": [
    "### 1) Реализовать локализацию триангуляцией (3 балл)\n",
    "    "
   ]
  },
  {
   "cell_type": "code",
   "execution_count": 3,
   "id": "funded-external",
   "metadata": {},
   "outputs": [],
   "source": [
    "class Robott:\n",
    "  def __init__(self, x=0, y =0, yaw=0):\n",
    "    self.x = x\n",
    "    self.y = y\n",
    "    self.yaw = yaw\n",
    "  def set_coord(self, x, y, yaw):\n",
    "    self.x = float(x)\n",
    "    self.y = float(y)\n",
    "    self.yaw = float(yaw)\n",
    "  def move(self, x,y,yaw):\n",
    "    orientation = self.yaw + float(-yaw)\n",
    "    if orientation < 0:\n",
    "      orientation += math.pi *2\n",
    "    self.yaw =  orientation % (math.pi *2)\n",
    "    self.x += x*math.cos(self.yaw)\n",
    "    self.y += y*math.sin(self.yaw)\n",
    "\n",
    "class localization_triangulation:\n",
    "    \n",
    "    def __init__(self, x_start, y_start):\n",
    "       \n",
    "        self.x = x_start\n",
    "        self.y = y_start\n",
    "    \n",
    "    def update(self, distances):\n",
    "\n",
    "        #видны желтые стойки ворот\n",
    "        if distances[\"blue_posts\"] == []:\n",
    "            r1 = distances[\"yellow_posts\"][0]\n",
    "            r2 = distances[\"yellow_posts\"][1]\n",
    "            l = landmarks[\"yellow_posts\"][1][1] - landmarks[\"yellow_posts\"][0][1]\n",
    "            p = (r1 + r2 + l) / 2\n",
    "            s = (p*(p-r1)*(p-r2)*(p-l))**(1/2)\n",
    "            h = 2*s/l\n",
    "            self.y = landmarks[\"yellow_posts\"][0][0] - h\n",
    "            if r2**2 > l**2 + r1**2:\n",
    "                l1 = (r1**2 - h**2)**(1/2)\n",
    "                self.x = landmarks[\"yellow_posts\"][0][1] - l1\n",
    "            if r1**2 > l**2 + r2**2:\n",
    "                l2 = (r2**2 - h**2)**(1/2)\n",
    "                self.x = landmarks[\"yellow_posts\"][1][1] + l2\n",
    "            else:\n",
    "                l1 = (r1**2 - h**2)**(1/2)\n",
    "                self.x = landmarks[\"yellow_posts\"][0][1] + l1\n",
    "        #видны синие стойки ворот\n",
    "        else:\n",
    "            r1 = distances[\"blue_posts\"][0]\n",
    "            r2 = distances[\"blue_posts\"][1]\n",
    "            l = landmarks[\"blue_posts\"][1][1] - landmarks[\"blue_posts\"][0][1]\n",
    "            p = (r1 + r2 + l) / 2\n",
    "            s = (p*(p-r1)*(p-r2)*(p-l))**(1/2)\n",
    "            h = 2*s/l\n",
    "            self.y = landmarks[\"blue_posts\"][0][0] + h\n",
    "            if r2**2 > l**2 + r1**2:\n",
    "                l1 = (r1**2 - h**2)**(1/2)\n",
    "                self.x = landmarks[\"blue_posts\"][0][1] - l1\n",
    "            if r1**2 > l**2 + r2**2:\n",
    "                l2 = (r2**2 - h**2)**(1/2)\n",
    "                self.x = landmarks[\"blue_posts\"][1][1] + l2\n",
    "            else:\n",
    "                l1 = (r1**2 - h**2)**(1/2)\n",
    "                self.x = landmarks[\"blue_posts\"][0][1] + l1"
   ]
  },
  {
   "cell_type": "markdown",
   "id": "3930aaf2",
   "metadata": {},
   "source": [
    "# Сделаем проверку"
   ]
  },
  {
   "cell_type": "code",
   "execution_count": 4,
   "id": "23158af2",
   "metadata": {},
   "outputs": [
    {
     "name": "stdout",
     "output_type": "stream",
     "text": [
      "1.0 1.0\n",
      "1.9999999999999973 1.9999999999999991\n",
      "0.9999999999999574 5.000000000000009\n"
     ]
    }
   ],
   "source": [
    "# Преобразует позицию робота в расстояния до ворот\n",
    "def positions2distances(positions):\n",
    "    dst_y1 = ((positions[\"y\"] - landmarks[\"yellow_posts\"][0][0])**2 + (positions[\"x\"] - landmarks[\"yellow_posts\"][0][1])**2)**(1/2)\n",
    "    dst_y2 = ((positions[\"y\"] - landmarks[\"yellow_posts\"][1][0])**2 + (positions[\"x\"] - landmarks[\"yellow_posts\"][1][1])**2)**(1/2)\n",
    "\n",
    "    dst_b1 = ((positions[\"y\"] - landmarks[\"blue_posts\"][0][0])**2 + (positions[\"x\"] - landmarks[\"blue_posts\"][0][1])**2)**(1/2)\n",
    "    dst_b2 = ((positions[\"y\"] - landmarks[\"blue_posts\"][1][0])**2 + (positions[\"x\"] - landmarks[\"blue_posts\"][1][1])**2)**(1/2)\n",
    "    \n",
    "    return {\"yellow_posts\": [dst_y1, dst_y2], \"blue_posts\": [dst_b1, dst_b2]}\n",
    "\n",
    "Robot = localization_triangulation(0, 0)\n",
    "\n",
    "positions1 = {\"x\": 1, \"y\": 1}\n",
    "distances1 = positions2distances(positions1)\n",
    "distances1[\"yellow_posts\"] = []\n",
    "Robot.update(distances1)\n",
    "print(Robot.x, Robot.y)\n",
    "\n",
    "positions2 = {\"x\": 2, \"y\": 2}\n",
    "distances2 = positions2distances(positions2)\n",
    "distances2[\"blue_posts\"] = []\n",
    "Robot.update(distances2)\n",
    "print(Robot.x, Robot.y)\n",
    "\n",
    "positions3 = {\"x\": 1, \"y\": 5}\n",
    "distances3 = positions2distances(positions3)\n",
    "distances3[\"yellow_posts\"] = []\n",
    "Robot.update(distances3)\n",
    "print(Robot.x, Robot.y)"
   ]
  },
  {
   "cell_type": "markdown",
   "id": "freelance-messaging",
   "metadata": {},
   "source": [
    "### 2) Дополнить предыдущий пункт до альфа-бета фильтра (5 балла)"
   ]
  },
  {
   "cell_type": "code",
   "execution_count": 5,
   "id": "cordless-messenger",
   "metadata": {},
   "outputs": [],
   "source": [
    "class localization_alphabeta:\n",
    "    \n",
    "    def __init__(self, x_start, y_start, alpha, beta):\n",
    "       \n",
    "        self.x = x_start\n",
    "        self.y = y_start\n",
    "\n",
    "        self.local_tri =  localization_triangulation(x_start, y_start)\n",
    "\n",
    "        self.alpha = alpha\n",
    "        self.beta = beta\n",
    "    \n",
    "    def update(self, distances, shift):\n",
    "        \n",
    "        self.local_tri.update(distances)\n",
    "        x_tri = self.local_tri.x\n",
    "        y_tri = self.local_tri.y\n",
    "\n",
    "        x_odo = self.x + shift[\"x\"]\n",
    "        y_odo = self.y + shift[\"y\"]\n",
    "\n",
    "        self.x = x_tri*self.alpha + x_odo*self.beta\n",
    "        self.y = y_tri*self.alpha + y_odo*self.beta"
   ]
  },
  {
   "cell_type": "markdown",
   "id": "vanilla-documentary",
   "metadata": {},
   "source": [
    "### 3) *Дополнительно* Добавьте визуализацию вида сверху  (2 балла)"
   ]
  },
  {
   "cell_type": "markdown",
   "id": "polyphonic-extension",
   "metadata": {},
   "source": [
    "Например на OpenCV или Matplotlib, например так как было в семинаре, чтобы можно было удобно посмотреть на работу модуля.\n"
   ]
  },
  {
   "cell_type": "code",
   "execution_count": 6,
   "id": "dd91182f",
   "metadata": {},
   "outputs": [],
   "source": [
    "class Field:\n",
    "  def __init__(self, field_param):\n",
    "    self.field = field_param\n",
    "    self.w_width = field_param['main_rectangle'][0][0]\n",
    "    self.w_length = field_param['main_rectangle'][0][1]\n",
    "    \n",
    "parfield = {\n",
    "    \"circles\": [\n",
    "                [0.0, 0.0,1.0]\n",
    "    ], \n",
    "    \"lines\":[\n",
    "             [[-3.0,3.0], [0.0, 0.0]]\n",
    "    ], \n",
    "    \"points\":[\n",
    "              [0, 0]\n",
    "    ],\n",
    "    \"main_rectangle\":[\n",
    "                      [6.0, 9.0]\n",
    "    ], \n",
    "    \"rectangles\":[\n",
    "                  [[-1, -4.5], 2,1], [[-1, 3.5],2,1]\n",
    "    ]\n",
    "}\n",
    "\n",
    "import math\n",
    "import matplotlib.pylab as plt\n",
    "field = Field(parfield)\n",
    "def visualization(robot, pr, factor = 7):\n",
    "  plt.figure(\"robot \", figsize=(field.w_width, field.w_length))\n",
    "  plt.title('particle filter')\n",
    "\n",
    "  grid = [-field.w_width/2, field.w_width/2, -field.w_length/2, field.w_length/2]\n",
    "  ax = plt.axis(grid)\n",
    "  for el in field.field:\n",
    "    if el == 'circles':\n",
    "      for circle in field.field['circles']:\n",
    "        plot_circle = plt.Circle((circle[0], circle[1]), circle[2], linewidth=2, fill =False, edgecolor = 'r')\n",
    "        plt.gca().add_patch(plot_circle)\n",
    "    if el == 'lines':\n",
    "      for line in field.field['lines']:\n",
    "        plot_line = plt.Line2D(line[0], line[1], linewidth = 2, linestyle = '-', color = '#330000')\n",
    "        plt.gca().add_line(plot_line)\n",
    "    if el == 'rectangles':\n",
    "      for rectangle in field.field['rectangles']:\n",
    "        rect = plt.Rectangle(rectangle[0], rectangle[1],rectangle[2], linewidth = 2, linestyle = '-', fill = False)\n",
    "        plt.gca().add_patch(rect)\n",
    "    if pr != False:\n",
    "      circle = plt.Circle((robot.y, robot.x), 1./factor, facecolor='#FF66E9', edgecolor='#FF66E9')\n",
    "      plt.gca().add_patch(circle)\n",
    "\n",
    "      arrow = plt.Arrow(robot.y, robot.x, 3*math.sin(robot.yaw)/factor, 3*math.cos(robot.yaw)/factor, width=1/factor)\n",
    "      plt.gca().add_patch(arrow)\n",
    "\n",
    "  for lm in landmarks:\n",
    "    for lms in landmarks[lm]:\n",
    "      if lm == \"yellow_posts\":\n",
    "        circle = plt.Circle((lms[0], lms[1]), 1./factor, facecolor ='#ffff00', edgecolor = '#330000')\n",
    "        plt.gca().add_patch(circle)\n",
    "      else:\n",
    "        circle = plt.Circle((lms[0], lms[1]), 1./factor, facecolor = '#060C73', edgecolor = '#330000')\n",
    "        plt.gca().add_patch(circle)"
   ]
  },
  {
   "cell_type": "code",
   "execution_count": 13,
   "id": "2d826369",
   "metadata": {},
   "outputs": [
    {
     "data": {
      "image/png": "[encoded data removed]",
      "text/plain": [
       "<Figure size 432x648 with 1 Axes>"
      ]
     },
     "metadata": {
      "needs_background": "light"
     },
     "output_type": "display_data"
    }
   ],
   "source": [
    "r = Robott()\n",
    "r.move(0,2,1)\n",
    "visualization(r, True, 5)"
   ]
  },
  {
   "cell_type": "code",
   "execution_count": null,
   "id": "systematic-prairie",
   "metadata": {},
   "outputs": [],
   "source": []
  }
 ],
 "metadata": {
  "kernelspec": {
   "display_name": "Python 3 (ipykernel)",
   "language": "python",
   "name": "python3"
  },
  "language_info": {
   "codemirror_mode": {
    "name": "ipython",
    "version": 3
   },
   "file_extension": ".py",
   "mimetype": "text/x-python",
   "name": "python",
   "nbconvert_exporter": "python",
   "pygments_lexer": "ipython3",
   "version": "3.9.12"
  }
 },
 "nbformat": 4,
 "nbformat_minor": 5
}
